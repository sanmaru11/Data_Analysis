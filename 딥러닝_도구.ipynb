{
  "nbformat": 4,
  "nbformat_minor": 0,
  "metadata": {
    "colab": {
      "name": "딥러닝 도구.ipynb",
      "provenance": [],
      "collapsed_sections": [],
      "authorship_tag": "ABX9TyMyHOexYuD9WKH3UTRqOt90",
      "include_colab_link": true
    },
    "kernelspec": {
      "name": "python3",
      "display_name": "Python 3"
    },
    "language_info": {
      "name": "python"
    }
  },
  "cells": [
    {
      "cell_type": "markdown",
      "metadata": {
        "id": "view-in-github",
        "colab_type": "text"
      },
      "source": [
        "<a href=\"https://colab.research.google.com/github/sanmaru11/Data_Analysis/blob/main/%EB%94%A5%EB%9F%AC%EB%8B%9D_%EB%8F%84%EA%B5%AC.ipynb\" target=\"_parent\"><img src=\"https://colab.research.google.com/assets/colab-badge.svg\" alt=\"Open In Colab\"/></a>"
      ]
    },
    {
      "cell_type": "markdown",
      "metadata": {
        "id": "vmSpwnjThA4v"
      },
      "source": [
        "<h1> 딥러닝을 위한 도구 </h1>"
      ]
    },
    {
      "cell_type": "markdown",
      "metadata": {
        "id": "lkM2NObcgB8K"
      },
      "source": [
        "파이썬 리스트 복습"
      ]
    },
    {
      "cell_type": "code",
      "metadata": {
        "colab": {
          "base_uri": "https://localhost:8080/"
        },
        "id": "wyahdwT9emi-",
        "outputId": "4c09fce7-b911-4acc-e41b-6034e41f106b"
      },
      "source": [
        "my_list = [10, \"hello list\", 20]\n",
        "print(my_list[1])"
      ],
      "execution_count": null,
      "outputs": [
        {
          "output_type": "stream",
          "name": "stdout",
          "text": [
            "hello list\n"
          ]
        }
      ]
    },
    {
      "cell_type": "markdown",
      "metadata": {
        "id": "Qw0wncLGgJCC"
      },
      "source": [
        "2차원 배열\n",
        "\n",
        "[[10, 20, 30],\n",
        "\n",
        " [40, 50, 60]]\n"
      ]
    },
    {
      "cell_type": "code",
      "metadata": {
        "colab": {
          "base_uri": "https://localhost:8080/"
        },
        "id": "iHm0eRrSf_fZ",
        "outputId": "3d63d2a1-2460-4254-9ead-b5785c4c8f3e"
      },
      "source": [
        "my_list_2 = [[10, 20, 30], [40, 50, 60]]\n",
        "print(my_list_2[1][1])"
      ],
      "execution_count": null,
      "outputs": [
        {
          "output_type": "stream",
          "name": "stdout",
          "text": [
            "50\n"
          ]
        }
      ]
    },
    {
      "cell_type": "markdown",
      "metadata": {
        "id": "-HHpHqH-gqOX"
      },
      "source": [
        "넘파이 임포트 : 다차원 배열을 제공하는 표준 라이브러리"
      ]
    },
    {
      "cell_type": "code",
      "metadata": {
        "colab": {
          "base_uri": "https://localhost:8080/"
        },
        "id": "eKzjIb63gVZw",
        "outputId": "adccbbfe-0907-4cc0-d3b3-f8301a3196dc"
      },
      "source": [
        "import numpy as np\n",
        "print(np.__version__)"
      ],
      "execution_count": null,
      "outputs": [
        {
          "output_type": "stream",
          "name": "stdout",
          "text": [
            "1.19.5\n"
          ]
        }
      ]
    },
    {
      "cell_type": "markdown",
      "metadata": {
        "id": "4Xr6yxQFhJy0"
      },
      "source": [
        "넘파이로 배열 만들기"
      ]
    },
    {
      "cell_type": "code",
      "metadata": {
        "colab": {
          "base_uri": "https://localhost:8080/"
        },
        "id": "XV2u-0ragzE4",
        "outputId": "ff31b867-5f33-48bb-e8b5-73f108561c80"
      },
      "source": [
        "my_arr = np.array([[10, 20, 30], [40, 50, 60]])\n",
        "print(my_arr)"
      ],
      "execution_count": null,
      "outputs": [
        {
          "output_type": "stream",
          "name": "stdout",
          "text": [
            "[[10 20 30]\n",
            " [40 50 60]]\n"
          ]
        }
      ]
    },
    {
      "cell_type": "markdown",
      "metadata": {
        "id": "8PeeH7VzhVhG"
      },
      "source": [
        "type() 함수로 넘파이 배열인지 확인하기"
      ]
    },
    {
      "cell_type": "code",
      "metadata": {
        "colab": {
          "base_uri": "https://localhost:8080/"
        },
        "id": "IM2zC5YhhT7I",
        "outputId": "57325b7e-4533-478b-d691-3b25653bff55"
      },
      "source": [
        "type(my_arr)"
      ],
      "execution_count": null,
      "outputs": [
        {
          "output_type": "execute_result",
          "data": {
            "text/plain": [
              "numpy.ndarray"
            ]
          },
          "metadata": {},
          "execution_count": 5
        }
      ]
    },
    {
      "cell_type": "markdown",
      "metadata": {
        "id": "jLDHr2gWho08"
      },
      "source": [
        "넘파이 배열에서 요소 선택하기\n",
        "\n",
        "리스트와 마찬가지로 인덱스는 0부터 시작"
      ]
    },
    {
      "cell_type": "code",
      "metadata": {
        "colab": {
          "base_uri": "https://localhost:8080/"
        },
        "id": "xAujgQikhcun",
        "outputId": "fd536fb7-7cc0-403a-a0f1-885973494ffe"
      },
      "source": [
        "my_arr[0][2]"
      ],
      "execution_count": null,
      "outputs": [
        {
          "output_type": "execute_result",
          "data": {
            "text/plain": [
              "30"
            ]
          },
          "metadata": {},
          "execution_count": 6
        }
      ]
    },
    {
      "cell_type": "markdown",
      "metadata": {
        "id": "TJ2-h35uh5YM"
      },
      "source": [
        "넘파이 내장함수 사용하기\n",
        "\n",
        "sum() 배열의 모든 값 더해줌"
      ]
    },
    {
      "cell_type": "code",
      "metadata": {
        "colab": {
          "base_uri": "https://localhost:8080/"
        },
        "id": "yPm-emTZhyRV",
        "outputId": "53dac918-e5b2-4314-e095-aa44bf3dfc18"
      },
      "source": [
        "np.sum(my_arr)"
      ],
      "execution_count": null,
      "outputs": [
        {
          "output_type": "execute_result",
          "data": {
            "text/plain": [
              "210"
            ]
          },
          "metadata": {},
          "execution_count": 7
        }
      ]
    },
    {
      "cell_type": "markdown",
      "metadata": {
        "id": "Nsdg7ea5iDTG"
      },
      "source": [
        "맷플롯립으로 그래프 그리기\n",
        "\n",
        "plot(x, y)"
      ]
    },
    {
      "cell_type": "code",
      "metadata": {
        "colab": {
          "base_uri": "https://localhost:8080/",
          "height": 265
        },
        "id": "fwsr0dGnh93X",
        "outputId": "63280d71-8660-46e8-9919-13cc27d31a06"
      },
      "source": [
        "import matplotlib.pyplot as plt\n",
        "plt.plot([1, 2, 3, 4, 5], [1, 4, 9, 16, 25])\n",
        "plt.show()"
      ],
      "execution_count": null,
      "outputs": [
        {
          "output_type": "display_data",
          "data": {
            "image/png": "[encoded data removed]",
            "text/plain": [
              "<Figure size 432x288 with 1 Axes>"
            ]
          },
          "metadata": {
            "needs_background": "light"
          }
        }
      ]
    },
    {
      "cell_type": "markdown",
      "metadata": {
        "id": "It0EbkwJibZ8"
      },
      "source": [
        "산점도 그리기\n",
        "\n",
        "scatter(x, y)"
      ]
    },
    {
      "cell_type": "code",
      "metadata": {
        "colab": {
          "base_uri": "https://localhost:8080/",
          "height": 265
        },
        "id": "TvvP7pd5iRg3",
        "outputId": "3b785839-a3e8-486a-cf1f-dbac72bd97d6"
      },
      "source": [
        "plt.scatter([1, 2, 3, 4, 5], [1, 4, 9, 16, 25])\n",
        "plt.show()"
      ],
      "execution_count": null,
      "outputs": [
        {
          "output_type": "display_data",
          "data": {
            "image/png": "[encoded data removed]",
            "text/plain": [
              "<Figure size 432x288 with 1 Axes>"
            ]
          },
          "metadata": {
            "needs_background": "light"
          }
        }
      ]
    },
    {
      "cell_type": "markdown",
      "metadata": {
        "id": "joH1Jyp3ikaq"
      },
      "source": [
        "넘파이 배열로 산점도 그리기"
      ]
    },
    {
      "cell_type": "code",
      "metadata": {
        "colab": {
          "base_uri": "https://localhost:8080/",
          "height": 265
        },
        "id": "e_dDqQBvihk-",
        "outputId": "7b0b6810-0b09-451d-b2b0-7080b1f7fc14"
      },
      "source": [
        "x = np.random.randn(1000) #표준 정규분포를 따르는 난수 1,000개를 만듭니다.\n",
        "y = np.random.randn(1000) #표준 정규분포를 따르는 난수 1,000개를 만듭니다.\n",
        "plt.scatter(x, y)\n",
        "plt.show()"
      ],
      "execution_count": null,
      "outputs": [
        {
          "output_type": "display_data",
          "data": {
            "image/png": "[encoded data removed]",
            "text/plain": [
              "<Figure size 432x288 with 1 Axes>"
            ]
          },
          "metadata": {
            "needs_background": "light"
          }
        }
      ]
    }
  ]
}